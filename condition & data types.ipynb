{
 "cells": [
  {
   "cell_type": "markdown",
   "metadata": {},
   "source": [
    "## Logic"
   ]
  },
  {
   "cell_type": "code",
   "execution_count": 3,
   "metadata": {
    "scrolled": true
   },
   "outputs": [
    {
     "name": "stdout",
     "output_type": "stream",
     "text": [
      "[1] 1\n",
      "[1] 6\n",
      "[1] 2\n",
      "[1] 7\n",
      "[1] 3\n",
      "[1] 8\n"
     ]
    }
   ],
   "source": [
    "for(i in 1:3){\n",
    "    print(i)\n",
    "    print(i+5)\n",
    "}"
   ]
  },
  {
   "cell_type": "markdown",
   "metadata": {},
   "source": [
    "```for``` 迴圈可以用來修改```matrix``` 裡的內容:"
   ]
  },
  {
   "cell_type": "code",
   "execution_count": 7,
   "metadata": {},
   "outputs": [
    {
     "name": "stdout",
     "output_type": "stream",
     "text": [
      "     [,1] [,2] [,3]\n",
      "[1,]    1    4    7\n",
      "[2,]    2    5    8\n",
      "[3,]    3    6    9\n"
     ]
    }
   ],
   "source": [
    "matrix1 = matrix(c(1:9), nrow=3)\n",
    "print(matrix1)"
   ]
  },
  {
   "cell_type": "code",
   "execution_count": 9,
   "metadata": {},
   "outputs": [
    {
     "name": "stdout",
     "output_type": "stream",
     "text": [
      "     [,1] [,2] [,3]\n",
      "[1,]    6    9   12\n",
      "[2,]    7   10   13\n",
      "[3,]    8   11   14\n"
     ]
    }
   ],
   "source": [
    "matrix2 = matrix1 + 5\n",
    "print(matrix2)"
   ]
  },
  {
   "cell_type": "code",
   "execution_count": 11,
   "metadata": {},
   "outputs": [
    {
     "name": "stdout",
     "output_type": "stream",
     "text": [
      "     [,1] [,2] [,3]\n",
      "[1,]    1    4    7\n",
      "[2,]    2    5    8\n",
      "[3,]    3    6    9\n"
     ]
    }
   ],
   "source": [
    "for(i in 1:3){\n",
    "    matrix2[i,] = matrix1[i,]\n",
    "}\n",
    "\n",
    "print(matrix2)"
   ]
  },
  {
   "cell_type": "markdown",
   "metadata": {},
   "source": [
    "### ```ifelse()``` function:"
   ]
  },
  {
   "cell_type": "code",
   "execution_count": 12,
   "metadata": {},
   "outputs": [
    {
     "name": "stdout",
     "output_type": "stream",
     "text": [
      "     [,1] [,2] [,3]\n",
      "[1,]    1    4    7\n",
      "[2,]    2    5    8\n",
      "[3,]    3    6    9\n"
     ]
    }
   ],
   "source": [
    "matrix1 = matrix(c(1:9), nrow=3)\n",
    "print(matrix1)"
   ]
  },
  {
   "cell_type": "code",
   "execution_count": 14,
   "metadata": {},
   "outputs": [
    {
     "data": {
      "text/html": [
       "<table>\n",
       "<caption>A matrix: 3 × 3 of type dbl</caption>\n",
       "<tbody>\n",
       "\t<tr><td>0</td><td>0</td><td>1</td></tr>\n",
       "\t<tr><td>0</td><td>0</td><td>1</td></tr>\n",
       "\t<tr><td>0</td><td>1</td><td>1</td></tr>\n",
       "</tbody>\n",
       "</table>\n"
      ],
      "text/latex": [
       "A matrix: 3 × 3 of type dbl\n",
       "\\begin{tabular}{lll}\n",
       "\t 0 & 0 & 1\\\\\n",
       "\t 0 & 0 & 1\\\\\n",
       "\t 0 & 1 & 1\\\\\n",
       "\\end{tabular}\n"
      ],
      "text/markdown": [
       "\n",
       "A matrix: 3 × 3 of type dbl\n",
       "\n",
       "| 0 | 0 | 1 |\n",
       "| 0 | 0 | 1 |\n",
       "| 0 | 1 | 1 |\n",
       "\n"
      ],
      "text/plain": [
       "     [,1] [,2] [,3]\n",
       "[1,] 0    0    1   \n",
       "[2,] 0    0    1   \n",
       "[3,] 0    1    1   "
      ]
     },
     "metadata": {},
     "output_type": "display_data"
    }
   ],
   "source": [
    "ifelse(matrix1 > 5, 1, 0)"
   ]
  },
  {
   "cell_type": "markdown",
   "metadata": {},
   "source": [
    "```ifelse()``` 裡的 parameters 依序代表: <font color='blue'> 檢查條件，如果條件為真要設為甚麼數，如果條件為否要設為甚麼數。</font>"
   ]
  },
  {
   "cell_type": "code",
   "execution_count": 15,
   "metadata": {},
   "outputs": [
    {
     "data": {
      "text/html": [
       "<table>\n",
       "<caption>A matrix: 3 × 3 of type chr</caption>\n",
       "<tbody>\n",
       "\t<tr><td>b</td><td>b</td><td>a</td></tr>\n",
       "\t<tr><td>b</td><td>b</td><td>a</td></tr>\n",
       "\t<tr><td>b</td><td>a</td><td>a</td></tr>\n",
       "</tbody>\n",
       "</table>\n"
      ],
      "text/latex": [
       "A matrix: 3 × 3 of type chr\n",
       "\\begin{tabular}{lll}\n",
       "\t b & b & a\\\\\n",
       "\t b & b & a\\\\\n",
       "\t b & a & a\\\\\n",
       "\\end{tabular}\n"
      ],
      "text/markdown": [
       "\n",
       "A matrix: 3 × 3 of type chr\n",
       "\n",
       "| b | b | a |\n",
       "| b | b | a |\n",
       "| b | a | a |\n",
       "\n"
      ],
      "text/plain": [
       "     [,1] [,2] [,3]\n",
       "[1,] b    b    a   \n",
       "[2,] b    b    a   \n",
       "[3,] b    a    a   "
      ]
     },
     "metadata": {},
     "output_type": "display_data"
    }
   ],
   "source": [
    "ifelse(matrix1 > 5, \"a\", \"b\")"
   ]
  },
  {
   "cell_type": "markdown",
   "metadata": {},
   "source": [
    "## Data types:"
   ]
  },
  {
   "cell_type": "markdown",
   "metadata": {},
   "source": [
    "### <font color='red'> numeric </font> class:"
   ]
  },
  {
   "cell_type": "code",
   "execution_count": 16,
   "metadata": {},
   "outputs": [
    {
     "data": {
      "text/html": [
       "'numeric'"
      ],
      "text/latex": [
       "'numeric'"
      ],
      "text/markdown": [
       "'numeric'"
      ],
      "text/plain": [
       "[1] \"numeric\""
      ]
     },
     "metadata": {},
     "output_type": "display_data"
    }
   ],
   "source": [
    "calc1 = 1 + 1\n",
    "class(calc1)"
   ]
  },
  {
   "cell_type": "markdown",
   "metadata": {},
   "source": [
    "用```class()``` 來顯示 variable 的 <font color='red'>data type</font>。"
   ]
  },
  {
   "cell_type": "code",
   "execution_count": 19,
   "metadata": {},
   "outputs": [
    {
     "data": {
      "text/html": [
       "'numeric'"
      ],
      "text/latex": [
       "'numeric'"
      ],
      "text/markdown": [
       "'numeric'"
      ],
      "text/plain": [
       "[1] \"numeric\""
      ]
     },
     "metadata": {},
     "output_type": "display_data"
    }
   ],
   "source": [
    "numbers1 = c(1, 2, 3)\n",
    "class(numbers1)"
   ]
  },
  {
   "cell_type": "markdown",
   "metadata": {},
   "source": [
    "```R``` 裡的 ```c()``` function，做的是 concatenate。  \n",
    "因此，把```1, 2, 3``` 這三個```numeric``` data type 的 variable concatenate 起來的變數，其 data type 仍然是 ```numeric```(而非 ```vector```)。"
   ]
  },
  {
   "cell_type": "markdown",
   "metadata": {},
   "source": [
    "### <font color='red'> integer </font> class:"
   ]
  },
  {
   "cell_type": "code",
   "execution_count": 20,
   "metadata": {},
   "outputs": [
    {
     "data": {
      "text/html": [
       "'integer'"
      ],
      "text/latex": [
       "'integer'"
      ],
      "text/markdown": [
       "'integer'"
      ],
      "text/plain": [
       "[1] \"integer\""
      ]
     },
     "metadata": {},
     "output_type": "display_data"
    }
   ],
   "source": [
    "numbers2 = 1:3\n",
    "class(numbers2)"
   ]
  },
  {
   "cell_type": "markdown",
   "metadata": {},
   "source": [
    "在這個例子，```R``` 將 ```numbers2``` 的 ```class``` 設為 ```integer```。    \n",
    "為何不是如上例所說，設為 ```numeric```?  \n",
    "\n",
    "其實這是```R```在幫我們節省記憶體! 因為```integer``` 是比較 <font color='red'> specific </font> 的 class(相對於```numeric```)。  \n",
    "而越特定的 ```class```，越可以節省電腦的記憶體。"
   ]
  },
  {
   "cell_type": "markdown",
   "metadata": {},
   "source": [
    "至於為何上面的```c()``` function 是視為```numeric```，那是因為這個 function 不會預設你要用什麼樣的數字，因此給你最大的自由。"
   ]
  },
  {
   "cell_type": "code",
   "execution_count": 21,
   "metadata": {},
   "outputs": [
    {
     "name": "stdout",
     "output_type": "stream",
     "text": [
      "[1] 1.1 2.1\n",
      "[1] \"numeric\"\n"
     ]
    }
   ],
   "source": [
    "numbers3 = 1.1:3\n",
    "print(numbers3)\n",
    "print(class(numbers3))"
   ]
  },
  {
   "cell_type": "markdown",
   "metadata": {},
   "source": [
    "而從此例可以看到，因為我們的起始數字是```1.1```，因此```R``` 就給定一個較寬廣的```class```。"
   ]
  },
  {
   "cell_type": "markdown",
   "metadata": {},
   "source": [
    "### 同樣的道理適用在 ```character```:"
   ]
  },
  {
   "cell_type": "code",
   "execution_count": 26,
   "metadata": {},
   "outputs": [
    {
     "data": {
      "text/html": [
       "'character'"
      ],
      "text/latex": [
       "'character'"
      ],
      "text/markdown": [
       "'character'"
      ],
      "text/plain": [
       "[1] \"character\""
      ]
     },
     "metadata": {},
     "output_type": "display_data"
    }
   ],
   "source": [
    "char1 = 'Hello world!'\n",
    "class(char1)"
   ]
  },
  {
   "cell_type": "code",
   "execution_count": 25,
   "metadata": {},
   "outputs": [
    {
     "data": {
      "text/html": [
       "'character'"
      ],
      "text/latex": [
       "'character'"
      ],
      "text/markdown": [
       "'character'"
      ],
      "text/plain": [
       "[1] \"character\""
      ]
     },
     "metadata": {},
     "output_type": "display_data"
    }
   ],
   "source": [
    "char2 = c('apple', 'banana', 'cherry')\n",
    "class(char2)"
   ]
  },
  {
   "cell_type": "code",
   "execution_count": 27,
   "metadata": {},
   "outputs": [
    {
     "data": {
      "text/html": [
       "'character'"
      ],
      "text/latex": [
       "'character'"
      ],
      "text/markdown": [
       "'character'"
      ],
      "text/plain": [
       "[1] \"character\""
      ]
     },
     "metadata": {},
     "output_type": "display_data"
    }
   ],
   "source": [
    "combined = c('apple', 3.3, -1)\n",
    "class(combined)"
   ]
  },
  {
   "cell_type": "markdown",
   "metadata": {},
   "source": [
    "注意到如果數字被混和在```characeter```裡，在```R``` 是視為```character```    \n",
    "因此，在```combined``` 裡的 ```3.3```, ```-1```，都沒有加減乘除的功能。"
   ]
  },
  {
   "cell_type": "markdown",
   "metadata": {},
   "source": [
    "### <font color='red'> logical </font> class:"
   ]
  },
  {
   "cell_type": "code",
   "execution_count": 28,
   "metadata": {},
   "outputs": [
    {
     "data": {
      "text/html": [
       "'logical'"
      ],
      "text/latex": [
       "'logical'"
      ],
      "text/markdown": [
       "'logical'"
      ],
      "text/plain": [
       "[1] \"logical\""
      ]
     },
     "metadata": {},
     "output_type": "display_data"
    }
   ],
   "source": [
    "logic1 = c(T, F, F)\n",
    "class(logic1)"
   ]
  },
  {
   "cell_type": "markdown",
   "metadata": {},
   "source": [
    "### <font color='red'> vector </font> class(```vector()```):"
   ]
  },
  {
   "cell_type": "markdown",
   "metadata": {},
   "source": [
    "從前面的例子，我們知道:  \n",
    "- a string of numbers -> class 'numeric'\n",
    "- a string of characters -> class 'character'\n",
    "- a string of T/F values -> calss 'logical'\n",
    "---\n",
    "那要 vector 幹嘛?  \n",
    "ANS: vector 的優點是他可以是 class 'numeric' 或 'character' 或 'logical'。(使用 ```mode``` parameter 來告訴```R``` 這個 vector 的 class)  \n",
    "<font color='red'>!注意!</font> vector 裡只能使用一種 data type。"
   ]
  },
  {
   "cell_type": "code",
   "execution_count": 32,
   "metadata": {},
   "outputs": [
    {
     "data": {
      "text/html": [
       "<style>\n",
       ".list-inline {list-style: none; margin:0; padding: 0}\n",
       ".list-inline>li {display: inline-block}\n",
       ".list-inline>li:not(:last-child)::after {content: \"\\00b7\"; padding: 0 .5ex}\n",
       "</style>\n",
       "<ol class=list-inline><li>0</li><li>0</li><li>0</li><li>0</li></ol>\n"
      ],
      "text/latex": [
       "\\begin{enumerate*}\n",
       "\\item 0\n",
       "\\item 0\n",
       "\\item 0\n",
       "\\item 0\n",
       "\\end{enumerate*}\n"
      ],
      "text/markdown": [
       "1. 0\n",
       "2. 0\n",
       "3. 0\n",
       "4. 0\n",
       "\n",
       "\n"
      ],
      "text/plain": [
       "[1] 0 0 0 0"
      ]
     },
     "metadata": {},
     "output_type": "display_data"
    }
   ],
   "source": [
    "vector1 = vector(mode='numeric', 4) # 創建 4 個 numeric\n",
    "vector1"
   ]
  },
  {
   "cell_type": "code",
   "execution_count": 34,
   "metadata": {},
   "outputs": [
    {
     "data": {
      "text/html": [
       "<style>\n",
       ".list-inline {list-style: none; margin:0; padding: 0}\n",
       ".list-inline>li {display: inline-block}\n",
       ".list-inline>li:not(:last-child)::after {content: \"\\00b7\"; padding: 0 .5ex}\n",
       "</style>\n",
       "<ol class=list-inline><li>0</li><li>-1</li><li>0</li><li>0</li></ol>\n"
      ],
      "text/latex": [
       "\\begin{enumerate*}\n",
       "\\item 0\n",
       "\\item -1\n",
       "\\item 0\n",
       "\\item 0\n",
       "\\end{enumerate*}\n"
      ],
      "text/markdown": [
       "1. 0\n",
       "2. -1\n",
       "3. 0\n",
       "4. 0\n",
       "\n",
       "\n"
      ],
      "text/plain": [
       "[1]  0 -1  0  0"
      ]
     },
     "metadata": {},
     "output_type": "display_data"
    }
   ],
   "source": [
    "vector1[2] = -1\n",
    "vector1"
   ]
  },
  {
   "cell_type": "markdown",
   "metadata": {},
   "source": [
    "### <font color='red'> matrix </font> class(```matrix()```):"
   ]
  },
  {
   "cell_type": "markdown",
   "metadata": {},
   "source": [
    "<font color='red'>!注意!</font> matrix 裡只能使用一種 data type。"
   ]
  },
  {
   "cell_type": "markdown",
   "metadata": {},
   "source": [
    "複習一下怎麼創建 matrix:"
   ]
  },
  {
   "cell_type": "code",
   "execution_count": 1,
   "metadata": {},
   "outputs": [],
   "source": [
    "matrix1 = matrix(1:9, nrow = 3) "
   ]
  },
  {
   "cell_type": "code",
   "execution_count": 4,
   "metadata": {},
   "outputs": [
    {
     "data": {
      "text/html": [
       "<style>\n",
       ".list-inline {list-style: none; margin:0; padding: 0}\n",
       ".list-inline>li {display: inline-block}\n",
       ".list-inline>li:not(:last-child)::after {content: \"\\00b7\"; padding: 0 .5ex}\n",
       "</style>\n",
       "<ol class=list-inline><li>'matrix'</li><li>'array'</li></ol>\n"
      ],
      "text/latex": [
       "\\begin{enumerate*}\n",
       "\\item 'matrix'\n",
       "\\item 'array'\n",
       "\\end{enumerate*}\n"
      ],
      "text/markdown": [
       "1. 'matrix'\n",
       "2. 'array'\n",
       "\n",
       "\n"
      ],
      "text/plain": [
       "[1] \"matrix\" \"array\" "
      ]
     },
     "metadata": {},
     "output_type": "display_data"
    }
   ],
   "source": [
    "class(matrix1)"
   ]
  },
  {
   "cell_type": "code",
   "execution_count": 6,
   "metadata": {},
   "outputs": [
    {
     "data": {
      "text/html": [
       "<table>\n",
       "<caption>A matrix: 2 × 3 of type lgl</caption>\n",
       "<tbody>\n",
       "\t<tr><td> TRUE</td><td>TRUE</td><td>FALSE</td></tr>\n",
       "\t<tr><td>FALSE</td><td>TRUE</td><td> TRUE</td></tr>\n",
       "</tbody>\n",
       "</table>\n"
      ],
      "text/latex": [
       "A matrix: 2 × 3 of type lgl\n",
       "\\begin{tabular}{lll}\n",
       "\t  TRUE & TRUE & FALSE\\\\\n",
       "\t FALSE & TRUE &  TRUE\\\\\n",
       "\\end{tabular}\n"
      ],
      "text/markdown": [
       "\n",
       "A matrix: 2 × 3 of type lgl\n",
       "\n",
       "|  TRUE | TRUE | FALSE |\n",
       "| FALSE | TRUE |  TRUE |\n",
       "\n"
      ],
      "text/plain": [
       "     [,1]  [,2] [,3] \n",
       "[1,]  TRUE TRUE FALSE\n",
       "[2,] FALSE TRUE  TRUE"
      ]
     },
     "metadata": {},
     "output_type": "display_data"
    }
   ],
   "source": [
    "matrix2 = matrix(c(T, F, T, T, F, T), ncol = 3)\n",
    "matrix2"
   ]
  },
  {
   "cell_type": "code",
   "execution_count": 7,
   "metadata": {},
   "outputs": [
    {
     "data": {
      "text/html": [
       "<style>\n",
       ".list-inline {list-style: none; margin:0; padding: 0}\n",
       ".list-inline>li {display: inline-block}\n",
       ".list-inline>li:not(:last-child)::after {content: \"\\00b7\"; padding: 0 .5ex}\n",
       "</style>\n",
       "<ol class=list-inline><li>'matrix'</li><li>'array'</li></ol>\n"
      ],
      "text/latex": [
       "\\begin{enumerate*}\n",
       "\\item 'matrix'\n",
       "\\item 'array'\n",
       "\\end{enumerate*}\n"
      ],
      "text/markdown": [
       "1. 'matrix'\n",
       "2. 'array'\n",
       "\n",
       "\n"
      ],
      "text/plain": [
       "[1] \"matrix\" \"array\" "
      ]
     },
     "metadata": {},
     "output_type": "display_data"
    }
   ],
   "source": [
    "class(matrix2)"
   ]
  },
  {
   "cell_type": "code",
   "execution_count": 8,
   "metadata": {
    "scrolled": true
   },
   "outputs": [
    {
     "data": {
      "text/html": [
       "'logical'"
      ],
      "text/latex": [
       "'logical'"
      ],
      "text/markdown": [
       "'logical'"
      ],
      "text/plain": [
       "[1] \"logical\""
      ]
     },
     "metadata": {},
     "output_type": "display_data"
    }
   ],
   "source": [
    "class(matrix2[1, ])"
   ]
  },
  {
   "cell_type": "markdown",
   "metadata": {},
   "source": [
    "### <font color='red'> array </font> class(```array()```):"
   ]
  },
  {
   "cell_type": "markdown",
   "metadata": {},
   "source": [
    "<font color='red'>!注意!</font> array 裡一樣只能使用一種 data type。"
   ]
  },
  {
   "cell_type": "markdown",
   "metadata": {},
   "source": [
    "但 array 跟 matrix 不同的點在於:\n",
    "- the set of data types it can store is larger.\n",
    "  (也就是 array 裡可以存放 <font color='blue'>'numeric', 'character', 'logical', 'matrices', 'data frames', 'lists'</font>)\n",
    "- can be multi-dimensional:\n",
    "  做法: creating a vector of values for the number of elements in each dimension. (```dim = c()```)"
   ]
  },
  {
   "cell_type": "code",
   "execution_count": 10,
   "metadata": {},
   "outputs": [],
   "source": [
    "array1 = array(1:16, dim = c(4, 2, 2))"
   ]
  },
  {
   "cell_type": "markdown",
   "metadata": {},
   "source": [
    "照順序，第一的維度是 4，第二個維度是 2，第三個維度是 2。"
   ]
  },
  {
   "cell_type": "code",
   "execution_count": 12,
   "metadata": {},
   "outputs": [
    {
     "name": "stdout",
     "output_type": "stream",
     "text": [
      ", , 1\n",
      "\n",
      "     [,1] [,2]\n",
      "[1,]    1    5\n",
      "[2,]    2    6\n",
      "[3,]    3    7\n",
      "[4,]    4    8\n",
      "\n",
      ", , 2\n",
      "\n",
      "     [,1] [,2]\n",
      "[1,]    9   13\n",
      "[2,]   10   14\n",
      "[3,]   11   15\n",
      "[4,]   12   16\n",
      "\n"
     ]
    }
   ],
   "source": [
    "print(array1)"
   ]
  },
  {
   "cell_type": "markdown",
   "metadata": {},
   "source": [
    "### <font color='red'> data frame </font> class (```data.frame()```):"
   ]
  },
  {
   "cell_type": "markdown",
   "metadata": {},
   "source": [
    "跟 array 一樣，可以存放不同的 class，但 data frame 較 array 佳的地方在於:\n",
    "- allow one to associate each row and each column with a name (```row.names = ''```)\n",
    "- allow <font color='blue'>each column</font> of the data frame to have a different data type "
   ]
  },
  {
   "cell_type": "code",
   "execution_count": 13,
   "metadata": {},
   "outputs": [],
   "source": [
    "myvalues1 = c(348, -343, 888, 11, 32)\n",
    "myvalues2 = c(T, F, F, T, T)\n",
    "\n",
    "names = c('Trial 1', 'Trial 2', 'Trial 3', 'Trial 4', 'Trial 5')"
   ]
  },
  {
   "cell_type": "code",
   "execution_count": 15,
   "metadata": {},
   "outputs": [],
   "source": [
    "dataframe1 = data.frame(myvalues1, myvalues2, row.names = names)"
   ]
  },
  {
   "cell_type": "code",
   "execution_count": 17,
   "metadata": {},
   "outputs": [
    {
     "name": "stdout",
     "output_type": "stream",
     "text": [
      "        myvalues1 myvalues2\n",
      "Trial 1       348      TRUE\n",
      "Trial 2      -343     FALSE\n",
      "Trial 3       888     FALSE\n",
      "Trial 4        11      TRUE\n",
      "Trial 5        32      TRUE\n"
     ]
    }
   ],
   "source": [
    "print(dataframe1)"
   ]
  },
  {
   "cell_type": "markdown",
   "metadata": {},
   "source": [
    "我的發現:\n",
    "- data frame 把 ```myvalues1``` 與 ```myvalues2``` 插入的方向是由上到下(也就是 column 的方向)。\n",
    "- 你丟入的資料的名稱(```myvalues1```, ```myvalues2```) 會被 dafault 為 column 的名字。"
   ]
  },
  {
   "cell_type": "markdown",
   "metadata": {},
   "source": [
    "#### ```names()``` function:"
   ]
  },
  {
   "cell_type": "markdown",
   "metadata": {},
   "source": [
    "要修改 column 的名字可以用這個 function:"
   ]
  },
  {
   "cell_type": "code",
   "execution_count": 18,
   "metadata": {},
   "outputs": [],
   "source": [
    "names(dataframe1)[1] = \"Velocity\"\n",
    "# 注意到 R 編號從 1 開始。"
   ]
  },
  {
   "cell_type": "code",
   "execution_count": 20,
   "metadata": {},
   "outputs": [
    {
     "name": "stdout",
     "output_type": "stream",
     "text": [
      "        Velocity myvalues2\n",
      "Trial 1      348      TRUE\n",
      "Trial 2     -343     FALSE\n",
      "Trial 3      888     FALSE\n",
      "Trial 4       11      TRUE\n",
      "Trial 5       32      TRUE\n"
     ]
    }
   ],
   "source": [
    "print(dataframe1)"
   ]
  },
  {
   "cell_type": "markdown",
   "metadata": {},
   "source": [
    "### <font color='red'> list </font> class (```list()```):"
   ]
  },
  {
   "cell_type": "markdown",
   "metadata": {},
   "source": [
    "list 跟 vector 很像，差別是 <font color='blue'> list 可以包含任意多個任意 type 的資料:"
   ]
  },
  {
   "cell_type": "code",
   "execution_count": 22,
   "metadata": {},
   "outputs": [
    {
     "name": "stdout",
     "output_type": "stream",
     "text": [
      "[[1]]\n",
      "[1] \"thing 1\"\n",
      "\n",
      "[[2]]\n",
      "[1] 1.5\n",
      "\n",
      "[[3]]\n",
      "[1] FALSE\n",
      "\n"
     ]
    }
   ],
   "source": [
    "list1 = list(\"thing 1\", 1.5, FALSE)\n",
    "print(list1)"
   ]
  },
  {
   "cell_type": "markdown",
   "metadata": {},
   "source": [
    "注意到前面的編號:"
   ]
  },
  {
   "cell_type": "code",
   "execution_count": 23,
   "metadata": {},
   "outputs": [
    {
     "data": {
      "text/html": [
       "'thing 1'"
      ],
      "text/latex": [
       "'thing 1'"
      ],
      "text/markdown": [
       "'thing 1'"
      ],
      "text/plain": [
       "[1] \"thing 1\""
      ]
     },
     "metadata": {},
     "output_type": "display_data"
    }
   ],
   "source": [
    "list1[[1]]"
   ]
  },
  {
   "cell_type": "markdown",
   "metadata": {},
   "source": [
    "客製化編號:"
   ]
  },
  {
   "cell_type": "code",
   "execution_count": 27,
   "metadata": {},
   "outputs": [
    {
     "name": "stdout",
     "output_type": "stream",
     "text": [
      "$category1\n",
      "[1] \"thing1\" \"thing2\"\n",
      "\n",
      "$category2\n",
      "[1] 1.5\n",
      "\n",
      "$cat\n",
      "[1] FALSE  TRUE\n",
      "\n"
     ]
    }
   ],
   "source": [
    "list2 = list(category1 = c(\"thing1\", \"thing2\"), category2 = 1.5, cat = c(FALSE, TRUE))\n",
    "print(list2)"
   ]
  },
  {
   "cell_type": "markdown",
   "metadata": {},
   "source": [
    "接著就可以根據編號做取值或修改(```$```):"
   ]
  },
  {
   "cell_type": "code",
   "execution_count": 28,
   "metadata": {},
   "outputs": [
    {
     "data": {
      "text/html": [
       "<style>\n",
       ".list-inline {list-style: none; margin:0; padding: 0}\n",
       ".list-inline>li {display: inline-block}\n",
       ".list-inline>li:not(:last-child)::after {content: \"\\00b7\"; padding: 0 .5ex}\n",
       "</style>\n",
       "<ol class=list-inline><li>FALSE</li><li>TRUE</li></ol>\n"
      ],
      "text/latex": [
       "\\begin{enumerate*}\n",
       "\\item FALSE\n",
       "\\item TRUE\n",
       "\\end{enumerate*}\n"
      ],
      "text/markdown": [
       "1. FALSE\n",
       "2. TRUE\n",
       "\n",
       "\n"
      ],
      "text/plain": [
       "[1] FALSE  TRUE"
      ]
     },
     "metadata": {},
     "output_type": "display_data"
    }
   ],
   "source": [
    "list2$cat"
   ]
  },
  {
   "cell_type": "markdown",
   "metadata": {},
   "source": [
    "修改值:"
   ]
  },
  {
   "cell_type": "code",
   "execution_count": 31,
   "metadata": {},
   "outputs": [],
   "source": [
    "list2$category2 = 87"
   ]
  },
  {
   "cell_type": "code",
   "execution_count": 37,
   "metadata": {},
   "outputs": [],
   "source": [
    "list2$category1[1] = \"Do the right thing\""
   ]
  },
  {
   "cell_type": "code",
   "execution_count": 38,
   "metadata": {
    "scrolled": true
   },
   "outputs": [
    {
     "name": "stdout",
     "output_type": "stream",
     "text": [
      "$category1\n",
      "[1] \"Do the right thing\" \"thing2\"            \n",
      "\n",
      "$category2\n",
      "[1] 87\n",
      "\n",
      "$cat\n",
      "[1] 4\n",
      "\n"
     ]
    }
   ],
   "source": [
    "print(list2)"
   ]
  },
  {
   "cell_type": "markdown",
   "metadata": {},
   "source": [
    "若要取出 list 裡的所有 elements，使用 ```str(list_name)```:"
   ]
  },
  {
   "cell_type": "code",
   "execution_count": 39,
   "metadata": {},
   "outputs": [
    {
     "name": "stdout",
     "output_type": "stream",
     "text": [
      "List of 3\n",
      " $ category1: chr [1:2] \"Do the right thing\" \"thing2\"\n",
      " $ category2: num 87\n",
      " $ cat      : num 4\n",
      "NULL\n"
     ]
    }
   ],
   "source": [
    "print(str(list2))"
   ]
  },
  {
   "cell_type": "markdown",
   "metadata": {},
   "source": [
    "![ds hierarchy](data:image/jpeg;base64,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)"
   ]
  },
  {
   "cell_type": "markdown",
   "metadata": {},
   "source": [
    "## Converting data type:"
   ]
  },
  {
   "cell_type": "code",
   "execution_count": 40,
   "metadata": {},
   "outputs": [],
   "source": [
    "matrix4 = matrix(c(1, 2, 3))"
   ]
  },
  {
   "cell_type": "code",
   "execution_count": 41,
   "metadata": {},
   "outputs": [
    {
     "data": {
      "text/html": [
       "<style>\n",
       ".list-inline {list-style: none; margin:0; padding: 0}\n",
       ".list-inline>li {display: inline-block}\n",
       ".list-inline>li:not(:last-child)::after {content: \"\\00b7\"; padding: 0 .5ex}\n",
       "</style>\n",
       "<ol class=list-inline><li>'matrix'</li><li>'array'</li></ol>\n"
      ],
      "text/latex": [
       "\\begin{enumerate*}\n",
       "\\item 'matrix'\n",
       "\\item 'array'\n",
       "\\end{enumerate*}\n"
      ],
      "text/markdown": [
       "1. 'matrix'\n",
       "2. 'array'\n",
       "\n",
       "\n"
      ],
      "text/plain": [
       "[1] \"matrix\" \"array\" "
      ]
     },
     "metadata": {},
     "output_type": "display_data"
    }
   ],
   "source": [
    "class(matrix4)"
   ]
  },
  {
   "cell_type": "code",
   "execution_count": 42,
   "metadata": {},
   "outputs": [],
   "source": [
    "matrix4 = as.numeric(matrix4)"
   ]
  },
  {
   "cell_type": "code",
   "execution_count": 44,
   "metadata": {},
   "outputs": [
    {
     "data": {
      "text/html": [
       "<style>\n",
       ".list-inline {list-style: none; margin:0; padding: 0}\n",
       ".list-inline>li {display: inline-block}\n",
       ".list-inline>li:not(:last-child)::after {content: \"\\00b7\"; padding: 0 .5ex}\n",
       "</style>\n",
       "<ol class=list-inline><li>1</li><li>2</li><li>3</li></ol>\n"
      ],
      "text/latex": [
       "\\begin{enumerate*}\n",
       "\\item 1\n",
       "\\item 2\n",
       "\\item 3\n",
       "\\end{enumerate*}\n"
      ],
      "text/markdown": [
       "1. 1\n",
       "2. 2\n",
       "3. 3\n",
       "\n",
       "\n"
      ],
      "text/plain": [
       "[1] 1 2 3"
      ]
     },
     "metadata": {},
     "output_type": "display_data"
    }
   ],
   "source": [
    "matrix4"
   ]
  },
  {
   "cell_type": "code",
   "execution_count": 43,
   "metadata": {},
   "outputs": [
    {
     "data": {
      "text/html": [
       "'numeric'"
      ],
      "text/latex": [
       "'numeric'"
      ],
      "text/markdown": [
       "'numeric'"
      ],
      "text/plain": [
       "[1] \"numeric\""
      ]
     },
     "metadata": {},
     "output_type": "display_data"
    }
   ],
   "source": [
    "class(matrix4)"
   ]
  },
  {
   "cell_type": "markdown",
   "metadata": {},
   "source": [
    "In general, 你可以使用 ```as.vector()```, ```as.logical()```, ```as.character()``` 來修改 data types。"
   ]
  },
  {
   "cell_type": "code",
   "execution_count": null,
   "metadata": {},
   "outputs": [],
   "source": []
  }
 ],
 "metadata": {
  "kernelspec": {
   "display_name": "R",
   "language": "R",
   "name": "ir"
  },
  "language_info": {
   "codemirror_mode": "r",
   "file_extension": ".r",
   "mimetype": "text/x-r-source",
   "name": "R",
   "pygments_lexer": "r",
   "version": "4.0.2"
  }
 },
 "nbformat": 4,
 "nbformat_minor": 4
}
