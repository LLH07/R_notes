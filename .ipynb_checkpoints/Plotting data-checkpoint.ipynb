{
 "cells": [
  {
   "cell_type": "markdown",
   "metadata": {},
   "source": [
    "- One of the most simple plotting tools in R is ```dot plot```.\n",
    "- ```dot plot``` is called through <font color='blue'> ```plot()``` </font>.\n",
    "- ```plot()```: takes in <font color='red'> 2 </font> equal length vectors."
   ]
  },
  {
   "cell_type": "code",
   "execution_count": 1,
   "metadata": {},
   "outputs": [],
   "source": [
    "plotvector1 = 1:9"
   ]
  },
  {
   "cell_type": "code",
   "execution_count": 2,
   "metadata": {},
   "outputs": [
    {
     "data": {
      "image/png": "[encoded data removed]",
      "text/plain": [
       "plot without title"
      ]
     },
     "metadata": {
      "image/png": {
       "height": 420,
       "width": 420
      }
     },
     "output_type": "display_data"
    }
   ],
   "source": [
    "plot(plotvector1, plotvector1)"
   ]
  },
  {
   "cell_type": "markdown",
   "metadata": {},
   "source": [
    "可以看到 ```plot()``` 會把兩個 vectors 放到一個座標中。    \n",
    "第一個 vector 丟給 <font color='red'> x 軸 </font>    \n",
    "第二個 vector 丟給 <font color='red'> y 軸 </font>。  "
   ]
  },
  {
   "cell_type": "markdown",
   "metadata": {},
   "source": [
    "補充:    \n",
    "如果是用 R 的軟體畫圖，會出現 ```R Graphics: Device 2 (ACTIVATE)``` 的字樣。  \n",
    "這表示現在這個視窗可以用來顯示圖。  "
   ]
  },
  {
   "cell_type": "markdown",
   "metadata": {},
   "source": [
    "那如果你畫一個新的圖，舊的就會被取代。  \n",
    "有時我們不想這麼做，就可以用 ```x11()``` 來產生一個新的視窗，且這時應該會顯示:   \n",
    "```R Graphics: Device 3 (ACTIVATE)``` 與  \n",
    "```R Graphics: Device 2 (inactive)```。"
   ]
  },
  {
   "cell_type": "code",
   "execution_count": null,
   "metadata": {},
   "outputs": [],
   "source": []
  }
 ],
 "metadata": {
  "kernelspec": {
   "display_name": "R",
   "language": "R",
   "name": "ir"
  },
  "language_info": {
   "codemirror_mode": "r",
   "file_extension": ".r",
   "mimetype": "text/x-r-source",
   "name": "R",
   "pygments_lexer": "r",
   "version": "4.0.2"
  }
 },
 "nbformat": 4,
 "nbformat_minor": 4
}
