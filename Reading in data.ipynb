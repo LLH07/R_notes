{
 "cells": [
  {
   "cell_type": "markdown",
   "metadata": {},
   "source": [
    "在將資料讀入 R 時，主要是兩種 types of data:\n",
    "- spreadsheet type data\n",
    "- 已經是 R object form 了"
   ]
  },
  {
   "cell_type": "markdown",
   "metadata": {},
   "source": [
    "其中，spreadsheet type data is read in as <font color='blue'> \"delineated(劃定的)\" </font>。"
   ]
  },
  {
   "cell_type": "markdown",
   "metadata": {},
   "source": [
    "### 取得 R 的位置:"
   ]
  },
  {
   "cell_type": "code",
   "execution_count": 1,
   "metadata": {},
   "outputs": [
    {
     "data": {
      "text/html": [
       "'C:/Users/User/R_notebook'"
      ],
      "text/latex": [
       "'C:/Users/User/R\\_notebook'"
      ],
      "text/markdown": [
       "'C:/Users/User/R_notebook'"
      ],
      "text/plain": [
       "[1] \"C:/Users/User/R_notebook\""
      ]
     },
     "metadata": {},
     "output_type": "display_data"
    }
   ],
   "source": [
    "getwd()"
   ]
  },
  {
   "cell_type": "markdown",
   "metadata": {},
   "source": [
    "而用 ```setwd()``` 可以設定 working directory 到你指定的位置。"
   ]
  },
  {
   "cell_type": "markdown",
   "metadata": {},
   "source": [
    "接著到[這個網站](https://sites.google.com/site/undergraduateguidetor/manual-files)下載```proteinconc.csv``` 並存在你的 working directory:"
   ]
  },
  {
   "cell_type": "markdown",
   "metadata": {},
   "source": [
    "### 讀入 ```csv```檔:"
   ]
  },
  {
   "cell_type": "markdown",
   "metadata": {},
   "source": [
    "接著用 ```read.csv()``` 讀入檔案:  \n",
    "其中，參數```header = TRUE``` 是告訴 R，這個檔案的 first row 存放的是 <font color='blue'> 各個 column 的 names </font>。"
   ]
  },
  {
   "cell_type": "code",
   "execution_count": 2,
   "metadata": {},
   "outputs": [],
   "source": [
    "proteinconc = read.csv(\"proteinconc.csv\", header = TRUE)"
   ]
  },
  {
   "cell_type": "code",
   "execution_count": 3,
   "metadata": {},
   "outputs": [
    {
     "data": {
      "text/html": [
       "'data.frame'"
      ],
      "text/latex": [
       "'data.frame'"
      ],
      "text/markdown": [
       "'data.frame'"
      ],
      "text/plain": [
       "[1] \"data.frame\""
      ]
     },
     "metadata": {},
     "output_type": "display_data"
    }
   ],
   "source": [
    "class(proteinconc)"
   ]
  },
  {
   "cell_type": "code",
   "execution_count": 5,
   "metadata": {},
   "outputs": [
    {
     "name": "stdout",
     "output_type": "stream",
     "text": [
      "           X   Nucleus Nuclear.Membrane Cell.Membrane  Cytoplasm\n",
      "1  Protein A 0.8130102       0.57037020    0.83259180 0.65253323\n",
      "2  Protein B 0.6721608       0.11733711    0.36397878 0.29172480\n",
      "3  Protein C 0.9999900       0.20000000    0.10000000 0.10000000\n",
      "4  Protein D 0.1362260       0.62458998    0.47661581 0.20027876\n",
      "5  Protein E 0.1926978       0.57585916    0.93488815 0.78293320\n",
      "6  Protein F 0.9173142       0.55391722    0.16602423 0.55693928\n",
      "7  Protein G 0.4250293       0.42876595    0.66559986 0.37701280\n",
      "8  Protein H 0.2338649       0.58533183    0.97755939 0.11282898\n",
      "9  Protein I 0.2789391       0.10281704    0.52110085 0.36704752\n",
      "10 Protein J 0.2370390       0.04378983    0.29937305 0.57197487\n",
      "11 Protein K 0.7643052       0.86044559    0.31451650 0.58918887\n",
      "12 Protein L 0.9173858       0.80419008    0.61687933 0.96457854\n",
      "13 Protein M 0.9125512       0.54336381    0.15811252 0.20463913\n",
      "14 Protein N 0.3364876       0.65789635    0.94468629 0.60835174\n",
      "15 Protein 0 0.5352296       0.65910622    0.10432305 0.46706604\n",
      "16 Protein P 0.0969320       0.01913860    0.58517055 0.61372513\n",
      "17 Protein Q 0.1210138       0.81411411    0.19958138 0.39370806\n",
      "18 Protein R 0.0100000       0.20000000    0.10000000 0.10000000\n",
      "19 Protein S 0.6818370       0.99466898    0.39093286 0.86760259\n",
      "20 Protein T 0.8575956       0.64743333    0.28125832 0.25056106\n",
      "21 Protein U 0.7930019       0.60587756    0.16941801 0.07637874\n",
      "22 Protein V 0.0510575       0.76438892    0.25890077 0.58233515\n",
      "23 Protein W 0.6335440       0.61527404    0.04280395 0.37375113\n",
      "24 Protein X 0.7056717       0.58485600    0.65972815 0.33719874\n",
      "25 Protein Y 0.7505884       0.37666513    0.82488844 0.69325248\n",
      "26 Protein Z 0.3251250       0.55278781    0.81760718 0.12019657\n",
      "   Endoplasmic.Reticulum  Ribosomes Golgi.Bodies Lysosomes   Vacuoles\n",
      "1            0.140808623 0.81669453   0.67344475 0.1877386 0.28284989\n",
      "2            0.084769889 0.34329086   0.12456284 0.2755685 0.72104478\n",
      "3            0.200000000 0.30000000   0.10000000 0.2000000 0.20000000\n",
      "4            0.258394653 0.65274620   0.82813498 0.1254017 0.51778064\n",
      "5            0.233538788 0.89605757   0.66413095 0.6872415 0.02357342\n",
      "6            0.274111342 0.60858925   0.49051872 0.9216003 0.34227053\n",
      "7            0.574744186 0.60340214   0.44613007 0.1322054 0.99724902\n",
      "8            0.425486408 0.36436077   0.75842195 0.9484616 0.49362632\n",
      "9            0.098798354 0.51470832   0.84120580 0.9451651 0.42704039\n",
      "10           0.474786756 0.30241096   0.08871417 0.6930372 0.08919644\n",
      "11           0.859418151 0.46873549   0.14854066 0.2211381 0.51052130\n",
      "12           0.782934790 0.04333663   0.71572729 0.2012442 0.06699237\n",
      "13           0.940878977 0.36855634   0.56208159 0.7628963 0.46065130\n",
      "14           0.144465943 0.45897492   0.45750427 0.3618119 0.30345226\n",
      "15           0.505279752 0.13488272   0.96155084 0.9779984 0.25398828\n",
      "16           0.897659542 0.20967917   0.71363226 0.4086985 0.50004445\n",
      "17           0.910429872 0.18317847   0.18928126 0.4562358 0.36662482\n",
      "18           0.200000000 0.30000000   0.10000000 0.9999900 0.20000000\n",
      "19           0.001366294 0.04032502   0.19481923 0.2138103 0.30623231\n",
      "20           0.945579975 0.01142992   0.76145366 0.9921106 0.69257155\n",
      "21           0.957956531 0.21306660   0.01880011 0.6207214 0.70674765\n",
      "22           0.332832216 0.17453880   0.99008466 0.4186003 0.79416282\n",
      "23           0.998761190 0.94882938   0.70065263 0.4672355 0.77156859\n",
      "24           0.661305267 0.08421813   0.66592186 0.5111431 0.35344937\n",
      "25           0.427867794 0.98084371   0.26572418 0.5622423 0.04869380\n",
      "26           0.005845199 0.12665391   0.71370160 0.1374952 0.19258650\n",
      "        Other\n",
      "1  0.99282798\n",
      "2  0.39713477\n",
      "3  0.10000000\n",
      "4  0.29705622\n",
      "5  0.94054261\n",
      "6  0.40772972\n",
      "7  0.72094025\n",
      "8  0.74784494\n",
      "9  0.31448174\n",
      "10 0.57309746\n",
      "11 0.16473931\n",
      "12 0.90121041\n",
      "13 0.55797598\n",
      "14 0.16831736\n",
      "15 0.75085907\n",
      "16 0.62488914\n",
      "17 0.72771526\n",
      "18 0.10000000\n",
      "19 0.51820820\n",
      "20 0.52281385\n",
      "21 0.04979044\n",
      "22 0.20938376\n",
      "23 0.88312805\n",
      "24 0.88716262\n",
      "25 0.62743299\n",
      "26 0.09995960\n"
     ]
    }
   ],
   "source": [
    "print(proteinconc)"
   ]
  },
  {
   "cell_type": "code",
   "execution_count": 6,
   "metadata": {
    "scrolled": true
   },
   "outputs": [
    {
     "data": {
      "text/html": [
       "<style>\n",
       ".list-inline {list-style: none; margin:0; padding: 0}\n",
       ".list-inline>li {display: inline-block}\n",
       ".list-inline>li:not(:last-child)::after {content: \"\\00b7\"; padding: 0 .5ex}\n",
       "</style>\n",
       "<ol class=list-inline><li>'1'</li><li>'2'</li><li>'3'</li><li>'4'</li><li>'5'</li><li>'6'</li><li>'7'</li><li>'8'</li><li>'9'</li><li>'10'</li><li>'11'</li><li>'12'</li><li>'13'</li><li>'14'</li><li>'15'</li><li>'16'</li><li>'17'</li><li>'18'</li><li>'19'</li><li>'20'</li><li>'21'</li><li>'22'</li><li>'23'</li><li>'24'</li><li>'25'</li><li>'26'</li></ol>\n"
      ],
      "text/latex": [
       "\\begin{enumerate*}\n",
       "\\item '1'\n",
       "\\item '2'\n",
       "\\item '3'\n",
       "\\item '4'\n",
       "\\item '5'\n",
       "\\item '6'\n",
       "\\item '7'\n",
       "\\item '8'\n",
       "\\item '9'\n",
       "\\item '10'\n",
       "\\item '11'\n",
       "\\item '12'\n",
       "\\item '13'\n",
       "\\item '14'\n",
       "\\item '15'\n",
       "\\item '16'\n",
       "\\item '17'\n",
       "\\item '18'\n",
       "\\item '19'\n",
       "\\item '20'\n",
       "\\item '21'\n",
       "\\item '22'\n",
       "\\item '23'\n",
       "\\item '24'\n",
       "\\item '25'\n",
       "\\item '26'\n",
       "\\end{enumerate*}\n"
      ],
      "text/markdown": [
       "1. '1'\n",
       "2. '2'\n",
       "3. '3'\n",
       "4. '4'\n",
       "5. '5'\n",
       "6. '6'\n",
       "7. '7'\n",
       "8. '8'\n",
       "9. '9'\n",
       "10. '10'\n",
       "11. '11'\n",
       "12. '12'\n",
       "13. '13'\n",
       "14. '14'\n",
       "15. '15'\n",
       "16. '16'\n",
       "17. '17'\n",
       "18. '18'\n",
       "19. '19'\n",
       "20. '20'\n",
       "21. '21'\n",
       "22. '22'\n",
       "23. '23'\n",
       "24. '24'\n",
       "25. '25'\n",
       "26. '26'\n",
       "\n",
       "\n"
      ],
      "text/plain": [
       " [1] \"1\"  \"2\"  \"3\"  \"4\"  \"5\"  \"6\"  \"7\"  \"8\"  \"9\"  \"10\" \"11\" \"12\" \"13\" \"14\" \"15\"\n",
       "[16] \"16\" \"17\" \"18\" \"19\" \"20\" \"21\" \"22\" \"23\" \"24\" \"25\" \"26\""
      ]
     },
     "metadata": {},
     "output_type": "display_data"
    }
   ],
   "source": [
    "row.names(proteinconc)"
   ]
  },
  {
   "cell_type": "markdown",
   "metadata": {},
   "source": [
    "### 修改 ```csv``` 的內容:"
   ]
  },
  {
   "cell_type": "markdown",
   "metadata": {},
   "source": [
    "可以發現各個 row 的名字是數字編號，我們想要讓 row 顯示不同蛋白質的名字:  \n",
    "(註: 可能是因為我用 jupyter notebook，我要打 ```print(proteinconc)``` 才會有數字編號，而這個數字編號應該跟資料本身無關，就是 R 自帶的)"
   ]
  },
  {
   "cell_type": "code",
   "execution_count": 7,
   "metadata": {},
   "outputs": [
    {
     "data": {
      "text/html": [
       "<style>\n",
       ".list-inline {list-style: none; margin:0; padding: 0}\n",
       ".list-inline>li {display: inline-block}\n",
       ".list-inline>li:not(:last-child)::after {content: \"\\00b7\"; padding: 0 .5ex}\n",
       "</style>\n",
       "<ol class=list-inline><li>'Protein A'</li><li>'Protein B'</li><li>'Protein C'</li><li>'Protein D'</li><li>'Protein E'</li><li>'Protein F'</li><li>'Protein G'</li><li>'Protein H'</li><li>'Protein I'</li><li>'Protein J'</li><li>'Protein K'</li><li>'Protein L'</li><li>'Protein M'</li><li>'Protein N'</li><li>'Protein 0'</li><li>'Protein P'</li><li>'Protein Q'</li><li>'Protein R'</li><li>'Protein S'</li><li>'Protein T'</li><li>'Protein U'</li><li>'Protein V'</li><li>'Protein W'</li><li>'Protein X'</li><li>'Protein Y'</li><li>'Protein Z'</li></ol>\n"
      ],
      "text/latex": [
       "\\begin{enumerate*}\n",
       "\\item 'Protein A'\n",
       "\\item 'Protein B'\n",
       "\\item 'Protein C'\n",
       "\\item 'Protein D'\n",
       "\\item 'Protein E'\n",
       "\\item 'Protein F'\n",
       "\\item 'Protein G'\n",
       "\\item 'Protein H'\n",
       "\\item 'Protein I'\n",
       "\\item 'Protein J'\n",
       "\\item 'Protein K'\n",
       "\\item 'Protein L'\n",
       "\\item 'Protein M'\n",
       "\\item 'Protein N'\n",
       "\\item 'Protein 0'\n",
       "\\item 'Protein P'\n",
       "\\item 'Protein Q'\n",
       "\\item 'Protein R'\n",
       "\\item 'Protein S'\n",
       "\\item 'Protein T'\n",
       "\\item 'Protein U'\n",
       "\\item 'Protein V'\n",
       "\\item 'Protein W'\n",
       "\\item 'Protein X'\n",
       "\\item 'Protein Y'\n",
       "\\item 'Protein Z'\n",
       "\\end{enumerate*}\n"
      ],
      "text/markdown": [
       "1. 'Protein A'\n",
       "2. 'Protein B'\n",
       "3. 'Protein C'\n",
       "4. 'Protein D'\n",
       "5. 'Protein E'\n",
       "6. 'Protein F'\n",
       "7. 'Protein G'\n",
       "8. 'Protein H'\n",
       "9. 'Protein I'\n",
       "10. 'Protein J'\n",
       "11. 'Protein K'\n",
       "12. 'Protein L'\n",
       "13. 'Protein M'\n",
       "14. 'Protein N'\n",
       "15. 'Protein 0'\n",
       "16. 'Protein P'\n",
       "17. 'Protein Q'\n",
       "18. 'Protein R'\n",
       "19. 'Protein S'\n",
       "20. 'Protein T'\n",
       "21. 'Protein U'\n",
       "22. 'Protein V'\n",
       "23. 'Protein W'\n",
       "24. 'Protein X'\n",
       "25. 'Protein Y'\n",
       "26. 'Protein Z'\n",
       "\n",
       "\n"
      ],
      "text/plain": [
       " [1] \"Protein A\" \"Protein B\" \"Protein C\" \"Protein D\" \"Protein E\" \"Protein F\"\n",
       " [7] \"Protein G\" \"Protein H\" \"Protein I\" \"Protein J\" \"Protein K\" \"Protein L\"\n",
       "[13] \"Protein M\" \"Protein N\" \"Protein 0\" \"Protein P\" \"Protein Q\" \"Protein R\"\n",
       "[19] \"Protein S\" \"Protein T\" \"Protein U\" \"Protein V\" \"Protein W\" \"Protein X\"\n",
       "[25] \"Protein Y\" \"Protein Z\""
      ]
     },
     "metadata": {},
     "output_type": "display_data"
    }
   ],
   "source": [
    "proteinconc[, 1]"
   ]
  },
  {
   "cell_type": "markdown",
   "metadata": {},
   "source": [
    "發現第一個 column 存放的是不同蛋白質，所以:"
   ]
  },
  {
   "cell_type": "code",
   "execution_count": 8,
   "metadata": {},
   "outputs": [],
   "source": [
    "row.names(proteinconc) = proteinconc[, 1]"
   ]
  },
  {
   "cell_type": "code",
   "execution_count": 9,
   "metadata": {},
   "outputs": [
    {
     "name": "stdout",
     "output_type": "stream",
     "text": [
      "                  X   Nucleus Nuclear.Membrane Cell.Membrane  Cytoplasm\n",
      "Protein A Protein A 0.8130102       0.57037020    0.83259180 0.65253323\n",
      "Protein B Protein B 0.6721608       0.11733711    0.36397878 0.29172480\n",
      "Protein C Protein C 0.9999900       0.20000000    0.10000000 0.10000000\n",
      "Protein D Protein D 0.1362260       0.62458998    0.47661581 0.20027876\n",
      "Protein E Protein E 0.1926978       0.57585916    0.93488815 0.78293320\n",
      "Protein F Protein F 0.9173142       0.55391722    0.16602423 0.55693928\n",
      "Protein G Protein G 0.4250293       0.42876595    0.66559986 0.37701280\n",
      "Protein H Protein H 0.2338649       0.58533183    0.97755939 0.11282898\n",
      "Protein I Protein I 0.2789391       0.10281704    0.52110085 0.36704752\n",
      "Protein J Protein J 0.2370390       0.04378983    0.29937305 0.57197487\n",
      "Protein K Protein K 0.7643052       0.86044559    0.31451650 0.58918887\n",
      "Protein L Protein L 0.9173858       0.80419008    0.61687933 0.96457854\n",
      "Protein M Protein M 0.9125512       0.54336381    0.15811252 0.20463913\n",
      "Protein N Protein N 0.3364876       0.65789635    0.94468629 0.60835174\n",
      "Protein 0 Protein 0 0.5352296       0.65910622    0.10432305 0.46706604\n",
      "Protein P Protein P 0.0969320       0.01913860    0.58517055 0.61372513\n",
      "Protein Q Protein Q 0.1210138       0.81411411    0.19958138 0.39370806\n",
      "Protein R Protein R 0.0100000       0.20000000    0.10000000 0.10000000\n",
      "Protein S Protein S 0.6818370       0.99466898    0.39093286 0.86760259\n",
      "Protein T Protein T 0.8575956       0.64743333    0.28125832 0.25056106\n",
      "Protein U Protein U 0.7930019       0.60587756    0.16941801 0.07637874\n",
      "Protein V Protein V 0.0510575       0.76438892    0.25890077 0.58233515\n",
      "Protein W Protein W 0.6335440       0.61527404    0.04280395 0.37375113\n",
      "Protein X Protein X 0.7056717       0.58485600    0.65972815 0.33719874\n",
      "Protein Y Protein Y 0.7505884       0.37666513    0.82488844 0.69325248\n",
      "Protein Z Protein Z 0.3251250       0.55278781    0.81760718 0.12019657\n",
      "          Endoplasmic.Reticulum  Ribosomes Golgi.Bodies Lysosomes   Vacuoles\n",
      "Protein A           0.140808623 0.81669453   0.67344475 0.1877386 0.28284989\n",
      "Protein B           0.084769889 0.34329086   0.12456284 0.2755685 0.72104478\n",
      "Protein C           0.200000000 0.30000000   0.10000000 0.2000000 0.20000000\n",
      "Protein D           0.258394653 0.65274620   0.82813498 0.1254017 0.51778064\n",
      "Protein E           0.233538788 0.89605757   0.66413095 0.6872415 0.02357342\n",
      "Protein F           0.274111342 0.60858925   0.49051872 0.9216003 0.34227053\n",
      "Protein G           0.574744186 0.60340214   0.44613007 0.1322054 0.99724902\n",
      "Protein H           0.425486408 0.36436077   0.75842195 0.9484616 0.49362632\n",
      "Protein I           0.098798354 0.51470832   0.84120580 0.9451651 0.42704039\n",
      "Protein J           0.474786756 0.30241096   0.08871417 0.6930372 0.08919644\n",
      "Protein K           0.859418151 0.46873549   0.14854066 0.2211381 0.51052130\n",
      "Protein L           0.782934790 0.04333663   0.71572729 0.2012442 0.06699237\n",
      "Protein M           0.940878977 0.36855634   0.56208159 0.7628963 0.46065130\n",
      "Protein N           0.144465943 0.45897492   0.45750427 0.3618119 0.30345226\n",
      "Protein 0           0.505279752 0.13488272   0.96155084 0.9779984 0.25398828\n",
      "Protein P           0.897659542 0.20967917   0.71363226 0.4086985 0.50004445\n",
      "Protein Q           0.910429872 0.18317847   0.18928126 0.4562358 0.36662482\n",
      "Protein R           0.200000000 0.30000000   0.10000000 0.9999900 0.20000000\n",
      "Protein S           0.001366294 0.04032502   0.19481923 0.2138103 0.30623231\n",
      "Protein T           0.945579975 0.01142992   0.76145366 0.9921106 0.69257155\n",
      "Protein U           0.957956531 0.21306660   0.01880011 0.6207214 0.70674765\n",
      "Protein V           0.332832216 0.17453880   0.99008466 0.4186003 0.79416282\n",
      "Protein W           0.998761190 0.94882938   0.70065263 0.4672355 0.77156859\n",
      "Protein X           0.661305267 0.08421813   0.66592186 0.5111431 0.35344937\n",
      "Protein Y           0.427867794 0.98084371   0.26572418 0.5622423 0.04869380\n",
      "Protein Z           0.005845199 0.12665391   0.71370160 0.1374952 0.19258650\n",
      "               Other\n",
      "Protein A 0.99282798\n",
      "Protein B 0.39713477\n",
      "Protein C 0.10000000\n",
      "Protein D 0.29705622\n",
      "Protein E 0.94054261\n",
      "Protein F 0.40772972\n",
      "Protein G 0.72094025\n",
      "Protein H 0.74784494\n",
      "Protein I 0.31448174\n",
      "Protein J 0.57309746\n",
      "Protein K 0.16473931\n",
      "Protein L 0.90121041\n",
      "Protein M 0.55797598\n",
      "Protein N 0.16831736\n",
      "Protein 0 0.75085907\n",
      "Protein P 0.62488914\n",
      "Protein Q 0.72771526\n",
      "Protein R 0.10000000\n",
      "Protein S 0.51820820\n",
      "Protein T 0.52281385\n",
      "Protein U 0.04979044\n",
      "Protein V 0.20938376\n",
      "Protein W 0.88312805\n",
      "Protein X 0.88716262\n",
      "Protein Y 0.62743299\n",
      "Protein Z 0.09995960\n"
     ]
    }
   ],
   "source": [
    "print(proteinconc)"
   ]
  },
  {
   "cell_type": "markdown",
   "metadata": {},
   "source": [
    "現在 row 的名稱改好了，所以也不需要第一個 column 的資料了(因為一樣):  \n",
    "```p[, -1]``` 代表刪除 ```p``` 的第一個 column。"
   ]
  },
  {
   "cell_type": "code",
   "execution_count": 10,
   "metadata": {},
   "outputs": [],
   "source": [
    "proteinconc = proteinconc[, -1]"
   ]
  },
  {
   "cell_type": "code",
   "execution_count": 11,
   "metadata": {},
   "outputs": [
    {
     "name": "stdout",
     "output_type": "stream",
     "text": [
      "            Nucleus Nuclear.Membrane Cell.Membrane  Cytoplasm\n",
      "Protein A 0.8130102       0.57037020    0.83259180 0.65253323\n",
      "Protein B 0.6721608       0.11733711    0.36397878 0.29172480\n",
      "Protein C 0.9999900       0.20000000    0.10000000 0.10000000\n",
      "Protein D 0.1362260       0.62458998    0.47661581 0.20027876\n",
      "Protein E 0.1926978       0.57585916    0.93488815 0.78293320\n",
      "Protein F 0.9173142       0.55391722    0.16602423 0.55693928\n",
      "Protein G 0.4250293       0.42876595    0.66559986 0.37701280\n",
      "Protein H 0.2338649       0.58533183    0.97755939 0.11282898\n",
      "Protein I 0.2789391       0.10281704    0.52110085 0.36704752\n",
      "Protein J 0.2370390       0.04378983    0.29937305 0.57197487\n",
      "Protein K 0.7643052       0.86044559    0.31451650 0.58918887\n",
      "Protein L 0.9173858       0.80419008    0.61687933 0.96457854\n",
      "Protein M 0.9125512       0.54336381    0.15811252 0.20463913\n",
      "Protein N 0.3364876       0.65789635    0.94468629 0.60835174\n",
      "Protein 0 0.5352296       0.65910622    0.10432305 0.46706604\n",
      "Protein P 0.0969320       0.01913860    0.58517055 0.61372513\n",
      "Protein Q 0.1210138       0.81411411    0.19958138 0.39370806\n",
      "Protein R 0.0100000       0.20000000    0.10000000 0.10000000\n",
      "Protein S 0.6818370       0.99466898    0.39093286 0.86760259\n",
      "Protein T 0.8575956       0.64743333    0.28125832 0.25056106\n",
      "Protein U 0.7930019       0.60587756    0.16941801 0.07637874\n",
      "Protein V 0.0510575       0.76438892    0.25890077 0.58233515\n",
      "Protein W 0.6335440       0.61527404    0.04280395 0.37375113\n",
      "Protein X 0.7056717       0.58485600    0.65972815 0.33719874\n",
      "Protein Y 0.7505884       0.37666513    0.82488844 0.69325248\n",
      "Protein Z 0.3251250       0.55278781    0.81760718 0.12019657\n",
      "          Endoplasmic.Reticulum  Ribosomes Golgi.Bodies Lysosomes   Vacuoles\n",
      "Protein A           0.140808623 0.81669453   0.67344475 0.1877386 0.28284989\n",
      "Protein B           0.084769889 0.34329086   0.12456284 0.2755685 0.72104478\n",
      "Protein C           0.200000000 0.30000000   0.10000000 0.2000000 0.20000000\n",
      "Protein D           0.258394653 0.65274620   0.82813498 0.1254017 0.51778064\n",
      "Protein E           0.233538788 0.89605757   0.66413095 0.6872415 0.02357342\n",
      "Protein F           0.274111342 0.60858925   0.49051872 0.9216003 0.34227053\n",
      "Protein G           0.574744186 0.60340214   0.44613007 0.1322054 0.99724902\n",
      "Protein H           0.425486408 0.36436077   0.75842195 0.9484616 0.49362632\n",
      "Protein I           0.098798354 0.51470832   0.84120580 0.9451651 0.42704039\n",
      "Protein J           0.474786756 0.30241096   0.08871417 0.6930372 0.08919644\n",
      "Protein K           0.859418151 0.46873549   0.14854066 0.2211381 0.51052130\n",
      "Protein L           0.782934790 0.04333663   0.71572729 0.2012442 0.06699237\n",
      "Protein M           0.940878977 0.36855634   0.56208159 0.7628963 0.46065130\n",
      "Protein N           0.144465943 0.45897492   0.45750427 0.3618119 0.30345226\n",
      "Protein 0           0.505279752 0.13488272   0.96155084 0.9779984 0.25398828\n",
      "Protein P           0.897659542 0.20967917   0.71363226 0.4086985 0.50004445\n",
      "Protein Q           0.910429872 0.18317847   0.18928126 0.4562358 0.36662482\n",
      "Protein R           0.200000000 0.30000000   0.10000000 0.9999900 0.20000000\n",
      "Protein S           0.001366294 0.04032502   0.19481923 0.2138103 0.30623231\n",
      "Protein T           0.945579975 0.01142992   0.76145366 0.9921106 0.69257155\n",
      "Protein U           0.957956531 0.21306660   0.01880011 0.6207214 0.70674765\n",
      "Protein V           0.332832216 0.17453880   0.99008466 0.4186003 0.79416282\n",
      "Protein W           0.998761190 0.94882938   0.70065263 0.4672355 0.77156859\n",
      "Protein X           0.661305267 0.08421813   0.66592186 0.5111431 0.35344937\n",
      "Protein Y           0.427867794 0.98084371   0.26572418 0.5622423 0.04869380\n",
      "Protein Z           0.005845199 0.12665391   0.71370160 0.1374952 0.19258650\n",
      "               Other\n",
      "Protein A 0.99282798\n",
      "Protein B 0.39713477\n",
      "Protein C 0.10000000\n",
      "Protein D 0.29705622\n",
      "Protein E 0.94054261\n",
      "Protein F 0.40772972\n",
      "Protein G 0.72094025\n",
      "Protein H 0.74784494\n",
      "Protein I 0.31448174\n",
      "Protein J 0.57309746\n",
      "Protein K 0.16473931\n",
      "Protein L 0.90121041\n",
      "Protein M 0.55797598\n",
      "Protein N 0.16831736\n",
      "Protein 0 0.75085907\n",
      "Protein P 0.62488914\n",
      "Protein Q 0.72771526\n",
      "Protein R 0.10000000\n",
      "Protein S 0.51820820\n",
      "Protein T 0.52281385\n",
      "Protein U 0.04979044\n",
      "Protein V 0.20938376\n",
      "Protein W 0.88312805\n",
      "Protein X 0.88716262\n",
      "Protein Y 0.62743299\n",
      "Protein Z 0.09995960\n"
     ]
    }
   ],
   "source": [
    "print(proteinconc)"
   ]
  },
  {
   "cell_type": "markdown",
   "metadata": {},
   "source": [
    "除了 csv(用逗點隔開資料)，其他可能的分隔物是:  \n",
    "\";\"  \n",
    "\"/t\"(tab)  \n",
    "\".\"(period)  \n",
    "\" \"(whitespace)。  "
   ]
  },
  {
   "cell_type": "markdown",
   "metadata": {},
   "source": [
    "eg 讀入用```;``` 隔開的檔案:\n",
    "```R\n",
    "read.dlim(\"filename.xxx\", header = TRUE, sep = \";\", dec = \".\")\n",
    "```\n",
    "---\n",
    "其中，```dec``` 參數是告訴 R，用```.```區分非整數。"
   ]
  },
  {
   "cell_type": "markdown",
   "metadata": {},
   "source": [
    "### 讀入```.rdata```:"
   ]
  },
  {
   "cell_type": "markdown",
   "metadata": {},
   "source": [
    "```.rdata```:\n",
    "- 全名叫: file extension for a saved R object(s).\n",
    "- 裡面可以有多個<font color='blue'>不同 classes</font> 的 R 物件。"
   ]
  },
  {
   "cell_type": "markdown",
   "metadata": {},
   "source": [
    "一樣從[這個網站](https://sites.google.com/site/undergraduateguidetor/manual-files)下載```proteinconc.rdata``` 並放在你的 working directory:"
   ]
  },
  {
   "cell_type": "code",
   "execution_count": 15,
   "metadata": {},
   "outputs": [],
   "source": [
    "r = load(\"proteinconc.rdata\")"
   ]
  },
  {
   "cell_type": "code",
   "execution_count": 16,
   "metadata": {},
   "outputs": [
    {
     "data": {
      "text/html": [
       "<style>\n",
       ".list-inline {list-style: none; margin:0; padding: 0}\n",
       ".list-inline>li {display: inline-block}\n",
       ".list-inline>li:not(:last-child)::after {content: \"\\00b7\"; padding: 0 .5ex}\n",
       "</style>\n",
       "<ol class=list-inline><li>'proteinconc2'</li><li>'yourmessage'</li></ol>\n"
      ],
      "text/latex": [
       "\\begin{enumerate*}\n",
       "\\item 'proteinconc2'\n",
       "\\item 'yourmessage'\n",
       "\\end{enumerate*}\n"
      ],
      "text/markdown": [
       "1. 'proteinconc2'\n",
       "2. 'yourmessage'\n",
       "\n",
       "\n"
      ],
      "text/plain": [
       "[1] \"proteinconc2\" \"yourmessage\" "
      ]
     },
     "metadata": {},
     "output_type": "display_data"
    }
   ],
   "source": [
    "r"
   ]
  },
  {
   "cell_type": "code",
   "execution_count": null,
   "metadata": {},
   "outputs": [],
   "source": []
  }
 ],
 "metadata": {
  "kernelspec": {
   "display_name": "R",
   "language": "R",
   "name": "ir"
  },
  "language_info": {
   "codemirror_mode": "r",
   "file_extension": ".r",
   "mimetype": "text/x-r-source",
   "name": "R",
   "pygments_lexer": "r",
   "version": "4.0.2"
  }
 },
 "nbformat": 4,
 "nbformat_minor": 4
}
